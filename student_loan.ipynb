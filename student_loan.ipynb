{
 "cells": [
  {
   "cell_type": "markdown",
   "metadata": {},
   "source": [
    "# Student Loan\n",
    "\n",
    "# Setup\n",
    "\n",
    "Run this cell **once** if you are in Google Colab:"
   ]
  },
  {
   "cell_type": "code",
   "execution_count": null,
   "metadata": {},
   "outputs": [],
   "source": [
    "import sys\n",
    "\n",
    "if \"google.colab\" in sys.modules:\n",
    "    !rm -rf sample_data\n",
    "    !git clone https://github.com/HMellor/personal-finance-uk.git\n",
    "    !mv personal-finance-uk/* .\n",
    "    !rm -r personal-finance-uk"
   ]
  },
  {
   "cell_type": "markdown",
   "metadata": {},
   "source": [
    "Then you can install the Python requirements:"
   ]
  },
  {
   "cell_type": "code",
   "execution_count": null,
   "metadata": {},
   "outputs": [],
   "source": [
    "%pip install -q -r requirements.txt"
   ]
  },
  {
   "cell_type": "markdown",
   "metadata": {},
   "source": [
    "## Interactive Figure"
   ]
  },
  {
   "cell_type": "code",
   "execution_count": null,
   "metadata": {},
   "outputs": [],
   "source": [
    "from utils.loan import simulate_repayment\n",
    "from utils.ui import create_inputs, create_figure, plot, observe_children\n",
    "from dotenv import load_dotenv\n",
    "import plotly.graph_objects as go\n",
    "import ipywidgets as widgets\n",
    "import inspect\n",
    "\n",
    "load_dotenv()\n",
    "\n",
    "\n",
    "class InteractiveFigure:\n",
    "    def __init__(self, process):\n",
    "        self.process = process\n",
    "        self.process_kwargs = inspect.signature(self.process).parameters.keys()\n",
    "        self.plot_kwargs = inspect.signature(plot).parameters.keys()\n",
    "\n",
    "        # Create inputs and figure\n",
    "        self.inputs = create_inputs()\n",
    "        self.figure = create_figure()\n",
    "        # Initialise the figure\n",
    "        self.on_change(None, self.figure)\n",
    "\n",
    "        # Create the controls and display widgets\n",
    "        self.controls = widgets.VBox(tuple(self.inputs.values()))\n",
    "        self.display = go.FigureWidget(self.figure)\n",
    "        # Add callback when change in value is observed for any of the controls\n",
    "        observe_children(widget=self.controls, callback=self.on_change)\n",
    "\n",
    "        # Package the controls and the display into the app\n",
    "        self.app = widgets.VBox((self.controls, self.display))\n",
    "\n",
    "    # Callback that re-runs the data processing medhot and updates plots\n",
    "    def on_change(self, _, figure=None):\n",
    "        # Extract kwargs from inputs\n",
    "        kwargs = {k: v.value for k, v in self.inputs.items()}\n",
    "        process_kwargs = {k: v for k, v in kwargs.items() if k in self.process_kwargs}\n",
    "        plot_kwargs = {k: v for k, v in kwargs.items() if k in self.plot_kwargs}\n",
    "        # Re-process and plot the new data\n",
    "        data = self.process(**process_kwargs)\n",
    "        plot(figure or self.display, data, **plot_kwargs)\n",
    "\n",
    "\n",
    "InteractiveFigure(simulate_repayment).app"
   ]
  }
 ],
 "metadata": {
  "colab": {
   "provenance": []
  },
  "kernelspec": {
   "display_name": "Python 3",
   "language": "python",
   "name": "python3"
  },
  "language_info": {
   "codemirror_mode": {
    "name": "ipython",
    "version": 3
   },
   "file_extension": ".py",
   "mimetype": "text/x-python",
   "name": "python",
   "nbconvert_exporter": "python",
   "pygments_lexer": "ipython3",
   "version": "3.10.6"
  },
  "vscode": {
   "interpreter": {
    "hash": "82cb1355d9a6e23f44aa5267dbca63fe6ffff3cfdd9d3e7e1e69de948ec4873f"
   }
  }
 },
 "nbformat": 4,
 "nbformat_minor": 0
}
