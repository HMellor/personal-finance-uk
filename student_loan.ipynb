{
 "cells": [
  {
   "cell_type": "code",
   "execution_count": null,
   "metadata": {},
   "outputs": [],
   "source": [
    "%matplotlib widget\n",
    "\n",
    "from utils.loan import simulate_repayment\n",
    "from utils.ui import inputs, get_plot, plot_update\n",
    "import ipywidgets as widgets\n",
    "\n",
    "width = 800\n",
    "fig, (ax0, ax1) = get_plot(width)\n",
    "\n",
    "\n",
    "def on_change(_):\n",
    "    data = simulate_repayment(\n",
    "        plan=inputs[\"plan\"].value,\n",
    "        graduation_year=inputs[\"graduation_year\"].value,\n",
    "        loan=inputs[\"loan\"].value,\n",
    "        interest_rate=inputs[\"interest_rate\"].value,\n",
    "        initial_salary=inputs[\"initial_salary\"].value,\n",
    "        salary_sacrifice=inputs[\"salary_sacrifice\"].value,\n",
    "        salary_growth=inputs[\"salary_growth\"].value,\n",
    "        extra_repayments={i: inputs[\"extra_repayments\"].value for i in range(30 * 12)},\n",
    "    )\n",
    "    plot_update(fig, ax0, ax1, data, inflation_rate=inputs[\"inflation_rate\"].value)\n",
    "\n",
    "\n",
    "on_change(None)\n",
    "\n",
    "\n",
    "def observe_children(widget):\n",
    "    for child in widget.children:\n",
    "        if hasattr(child, \"children\"):\n",
    "            observe_children(child)\n",
    "        else:\n",
    "            child.observe(on_change, names=\"value\")\n",
    "\n",
    "\n",
    "controls = widgets.VBox(children=tuple(inputs.values()))\n",
    "observe_children(controls)\n",
    "\n",
    "widgets.VBox(\n",
    "    children=[\n",
    "        controls,\n",
    "        fig.canvas,\n",
    "    ],\n",
    "    layout=widgets.Layout(width=f\"{width}px\"),\n",
    ")"
   ]
  }
 ],
 "metadata": {
  "colab": {
   "provenance": []
  },
  "kernelspec": {
   "display_name": "Python 3",
   "language": "python",
   "name": "python3"
  },
  "language_info": {
   "codemirror_mode": {
    "name": "ipython",
    "version": 3
   },
   "file_extension": ".py",
   "mimetype": "text/x-python",
   "name": "python",
   "nbconvert_exporter": "python",
   "pygments_lexer": "ipython3",
   "version": "3.10.6"
  },
  "vscode": {
   "interpreter": {
    "hash": "82cb1355d9a6e23f44aa5267dbca63fe6ffff3cfdd9d3e7e1e69de948ec4873f"
   }
  }
 },
 "nbformat": 4,
 "nbformat_minor": 0
}
