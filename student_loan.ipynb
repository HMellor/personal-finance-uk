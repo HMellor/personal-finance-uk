{
 "cells": [
  {
   "cell_type": "code",
   "execution_count": null,
   "metadata": {},
   "outputs": [],
   "source": [
    "%pip install -q -r requirements.txt"
   ]
  },
  {
   "cell_type": "code",
   "execution_count": null,
   "metadata": {},
   "outputs": [],
   "source": [
    "from utils.loan import simulate_repayment\n",
    "from utils.ui import app, inputs, controls, plot\n",
    "from dotenv import load_dotenv\n",
    "\n",
    "load_dotenv()\n",
    "\n",
    "# Callback that re-runs repayment simulation and updates plots\n",
    "def on_change(_):\n",
    "    data = simulate_repayment(\n",
    "        plan=inputs[\"plan\"].value,\n",
    "        graduation_year=inputs[\"graduation_year\"].value,\n",
    "        loan=inputs[\"loan\"].value,\n",
    "        interest_rate=inputs[\"interest_rate\"].value,\n",
    "        initial_salary=inputs[\"initial_salary\"].value,\n",
    "        salary_sacrifice=inputs[\"salary_sacrifice\"].value,\n",
    "        salary_growth=inputs[\"salary_growth\"].value,\n",
    "        extra_repayments={i: inputs[\"extra_repayments\"].value for i in range(30 * 12)},\n",
    "    )\n",
    "    plot(data, inflation_rate=inputs[\"inflation_rate\"].value)\n",
    "\n",
    "\n",
    "# Run callback change in value is observed for any of the controls\n",
    "def observe_children(widget):\n",
    "    for child in widget.children:\n",
    "        if hasattr(child, \"children\"):\n",
    "            observe_children(child)\n",
    "        else:\n",
    "            child.observe(on_change, names=\"value\")\n",
    "\n",
    "\n",
    "observe_children(controls)\n",
    "\n",
    "# Initialise the graph and display the app\n",
    "on_change(None)\n",
    "app"
   ]
  }
 ],
 "metadata": {
  "colab": {
   "provenance": []
  },
  "kernelspec": {
   "display_name": "Python 3",
   "language": "python",
   "name": "python3"
  },
  "language_info": {
   "codemirror_mode": {
    "name": "ipython",
    "version": 3
   },
   "file_extension": ".py",
   "mimetype": "text/x-python",
   "name": "python",
   "nbconvert_exporter": "python",
   "pygments_lexer": "ipython3",
   "version": "3.10.6"
  },
  "vscode": {
   "interpreter": {
    "hash": "82cb1355d9a6e23f44aa5267dbca63fe6ffff3cfdd9d3e7e1e69de948ec4873f"
   }
  }
 },
 "nbformat": 4,
 "nbformat_minor": 0
}
